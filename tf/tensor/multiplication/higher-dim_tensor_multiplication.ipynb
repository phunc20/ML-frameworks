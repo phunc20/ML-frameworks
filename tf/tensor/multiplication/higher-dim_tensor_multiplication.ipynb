{
 "cells": [
  {
   "cell_type": "markdown",
   "id": "fcac5813",
   "metadata": {},
   "source": [
    "# Purpose\n",
    "This notebook aims to verify what Aurelien Geron writes about higher-dimensional tensor multiplication in his hands-on machine learning book 2nd ed.\n",
    "\n",
    "What he said in the book is essentially that when tensors of shape length more than 2, i.e. not matrices anymore, then the multiplication is viewed as a bunch of multiplications of corresponding matrices from corresponding positions of the involved tensors.\n",
    "\n",
    "If nothing has changed, for ref. purposes, the statements could be found on p.560 Ch16 (Natural Language Processing with RNNs and Attention)."
   ]
  },
  {
   "cell_type": "code",
   "execution_count": 1,
   "id": "72d14a8a",
   "metadata": {
    "scrolled": true
   },
   "outputs": [
    {
     "name": "stderr",
     "output_type": "stream",
     "text": [
      "2021-11-21 18:30:20.943318: W tensorflow/stream_executor/platform/default/dso_loader.cc:64] Could not load dynamic library 'libcudart.so.11.0'; dlerror: libcudart.so.11.0: cannot open shared object file: No such file or directory\n",
      "2021-11-21 18:30:20.943353: I tensorflow/stream_executor/cuda/cudart_stub.cc:29] Ignore above cudart dlerror if you do not have a GPU set up on your machine.\n"
     ]
    }
   ],
   "source": [
    "import numpy as np\n",
    "import tensorflow as tf"
   ]
  },
  {
   "cell_type": "code",
   "execution_count": 2,
   "id": "c9035b9e",
   "metadata": {},
   "outputs": [],
   "source": [
    "np.random.seed(42)"
   ]
  },
  {
   "cell_type": "code",
   "execution_count": 3,
   "id": "8dbd1df5",
   "metadata": {},
   "outputs": [
    {
     "data": {
      "text/plain": [
       "array([[[39, 29, 15, 43],\n",
       "        [ 8, 21, 39, 19],\n",
       "        [23, 11, 11, 24]],\n",
       "\n",
       "       [[36, 40, 24,  3],\n",
       "        [22,  2, 24, 44],\n",
       "        [30, 38,  2, 21]]])"
      ]
     },
     "execution_count": 3,
     "metadata": {},
     "output_type": "execute_result"
    }
   ],
   "source": [
    "A = np.random.randint(1, 50, size=(2, 3, 4))\n",
    "A"
   ]
  },
  {
   "cell_type": "code",
   "execution_count": 4,
   "id": "5f39567b",
   "metadata": {},
   "outputs": [
    {
     "data": {
      "text/plain": [
       "array([[[33, 12, 22, 44, 25],\n",
       "        [49, 27, 42, 28, 16],\n",
       "        [15, 47, 44,  3, 37],\n",
       "        [ 7, 21,  9, 39, 18]],\n",
       "\n",
       "       [[ 4, 25, 14,  9, 26],\n",
       "        [ 2, 20, 28, 47,  7],\n",
       "        [44,  8, 47, 35, 14],\n",
       "        [17, 36, 40,  4,  2]]])"
      ]
     },
     "execution_count": 4,
     "metadata": {},
     "output_type": "execute_result"
    }
   ],
   "source": [
    "B = np.random.randint(1, 50, size=(2, 4, 5))\n",
    "B"
   ]
  },
  {
   "cell_type": "markdown",
   "id": "fdcedb4a",
   "metadata": {},
   "source": [
    "When the above `A` and `B` are multiplied, we view that\n",
    "\n",
    "- `A` consists of two matrices of shape `(3, 4)`\n",
    "- `B` consists of two matrices of shape `(4, 5)`\n",
    "- Their product consists of two matrices of shape `(3, 5)`\n",
    "    - Each matrix is the product of the corresponding matrices of `A` and of `B`"
   ]
  },
  {
   "cell_type": "code",
   "execution_count": 5,
   "id": "6a21909c",
   "metadata": {},
   "outputs": [
    {
     "data": {
      "text/plain": [
       "(2, 3, 5)"
      ]
     },
     "execution_count": 5,
     "metadata": {},
     "output_type": "execute_result"
    }
   ],
   "source": [
    "AB = A @ B\n",
    "AB.shape"
   ]
  },
  {
   "cell_type": "code",
   "execution_count": 6,
   "id": "952533eb",
   "metadata": {
    "scrolled": true
   },
   "outputs": [
    {
     "data": {
      "text/plain": [
       "array([[[3234, 2859, 3123, 4250, 2768],\n",
       "        [2011, 2895, 2945, 1798, 2321],\n",
       "        [1631, 1594, 1668, 2289, 1590]],\n",
       "\n",
       "       [[1331, 2000, 2872, 3056, 1558],\n",
       "        [1896, 2366, 3252, 1308, 1010],\n",
       "        [ 641, 2282, 2418, 2210, 1116]]])"
      ]
     },
     "execution_count": 6,
     "metadata": {},
     "output_type": "execute_result"
    }
   ],
   "source": [
    "AB"
   ]
  },
  {
   "cell_type": "code",
   "execution_count": 7,
   "id": "d437c77e",
   "metadata": {},
   "outputs": [
    {
     "data": {
      "text/plain": [
       "True"
      ]
     },
     "execution_count": 7,
     "metadata": {},
     "output_type": "execute_result"
    }
   ],
   "source": [
    "np.array_equal(A[0] @ B[0], AB[0])"
   ]
  },
  {
   "cell_type": "code",
   "execution_count": 8,
   "id": "0091f761",
   "metadata": {},
   "outputs": [
    {
     "data": {
      "text/plain": [
       "True"
      ]
     },
     "execution_count": 8,
     "metadata": {},
     "output_type": "execute_result"
    }
   ],
   "source": [
    "np.array_equal(A[1] @ B[1], AB[1])"
   ]
  },
  {
   "cell_type": "markdown",
   "id": "c097a1ec",
   "metadata": {},
   "source": [
    "Let's verify that the same holds in TensorFlow."
   ]
  },
  {
   "cell_type": "code",
   "execution_count": 9,
   "id": "5ecf9e23",
   "metadata": {
    "scrolled": true
   },
   "outputs": [
    {
     "name": "stderr",
     "output_type": "stream",
     "text": [
      "2021-11-21 18:30:23.073705: W tensorflow/stream_executor/platform/default/dso_loader.cc:64] Could not load dynamic library 'libcuda.so.1'; dlerror: libcuda.so.1: cannot open shared object file: No such file or directory\n",
      "2021-11-21 18:30:23.073756: W tensorflow/stream_executor/cuda/cuda_driver.cc:269] failed call to cuInit: UNKNOWN ERROR (303)\n",
      "2021-11-21 18:30:23.073800: I tensorflow/stream_executor/cuda/cuda_diagnostics.cc:156] kernel driver does not appear to be running on this host (fedora): /proc/driver/nvidia/version does not exist\n"
     ]
    }
   ],
   "source": [
    "tA = tf.constant(A)\n",
    "tB = tf.constant(B)\n",
    "tAB = tA @ tB"
   ]
  },
  {
   "cell_type": "code",
   "execution_count": 12,
   "id": "929ea226",
   "metadata": {},
   "outputs": [
    {
     "data": {
      "text/plain": [
       "True"
      ]
     },
     "execution_count": 12,
     "metadata": {},
     "output_type": "execute_result"
    }
   ],
   "source": [
    "np.array_equal(tAB.numpy(), AB)"
   ]
  },
  {
   "cell_type": "markdown",
   "id": "d52e0a15",
   "metadata": {},
   "source": [
    "The same is true when the `ndim` gets bigger"
   ]
  },
  {
   "cell_type": "code",
   "execution_count": 16,
   "id": "1a13f9b1",
   "metadata": {},
   "outputs": [],
   "source": [
    "A = np.random.randint(1, 50, size=(2, 3, 4, 5))\n",
    "B = np.random.randint(1, 50, size=(2, 3, 5, 6))\n",
    "AB = A @ B"
   ]
  },
  {
   "cell_type": "code",
   "execution_count": 18,
   "id": "9de95cd7",
   "metadata": {
    "scrolled": true
   },
   "outputs": [
    {
     "name": "stdout",
     "output_type": "stream",
     "text": [
      "AB[0, 0] equals A[0, 0] @ B[0, 0]: True\n",
      "AB[0, 1] equals A[0, 1] @ B[0, 1]: True\n",
      "AB[0, 2] equals A[0, 2] @ B[0, 2]: True\n",
      "AB[1, 0] equals A[1, 0] @ B[1, 0]: True\n",
      "AB[1, 1] equals A[1, 1] @ B[1, 1]: True\n",
      "AB[1, 2] equals A[1, 2] @ B[1, 2]: True\n"
     ]
    }
   ],
   "source": [
    "n_rows, n_cols = A.shape[:2]\n",
    "for i in range(n_rows):\n",
    "    for j in range(n_cols):\n",
    "        equal = np.array_equal(AB[i, j], A[i, j] @ B[i, j])\n",
    "        print(f\"AB[{i}, {j}] equals A[{i}, {j}] @ B[{i}, {j}]: {equal}\")"
   ]
  },
  {
   "cell_type": "code",
   "execution_count": 19,
   "id": "c721eef9",
   "metadata": {
    "scrolled": true
   },
   "outputs": [],
   "source": [
    "tA = tf.constant(A)\n",
    "tB = tf.constant(B)\n",
    "tAB = tA @ tB"
   ]
  },
  {
   "cell_type": "code",
   "execution_count": 20,
   "id": "54d241f7",
   "metadata": {},
   "outputs": [
    {
     "data": {
      "text/plain": [
       "True"
      ]
     },
     "execution_count": 20,
     "metadata": {},
     "output_type": "execute_result"
    }
   ],
   "source": [
    "np.array_equal(tAB.numpy(), AB)"
   ]
  },
  {
   "cell_type": "code",
   "execution_count": null,
   "id": "3f1b2113",
   "metadata": {},
   "outputs": [],
   "source": []
  }
 ],
 "metadata": {
  "kernelspec": {
   "display_name": "Python 3 (ipykernel)",
   "language": "python",
   "name": "python3"
  },
  "language_info": {
   "codemirror_mode": {
    "name": "ipython",
    "version": 3
   },
   "file_extension": ".py",
   "mimetype": "text/x-python",
   "name": "python",
   "nbconvert_exporter": "python",
   "pygments_lexer": "ipython3",
   "version": "3.8.12"
  }
 },
 "nbformat": 4,
 "nbformat_minor": 5
}
