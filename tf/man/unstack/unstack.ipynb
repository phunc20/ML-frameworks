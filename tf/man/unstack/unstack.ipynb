{
 "cells": [
  {
   "cell_type": "code",
   "execution_count": 1,
   "id": "voluntary-blade",
   "metadata": {},
   "outputs": [
    {
     "name": "stderr",
     "output_type": "stream",
     "text": [
      "/home/phunc20/.virtualenvs/homl1e/lib/python3.7/site-packages/tensorflow/python/framework/dtypes.py:526: FutureWarning: Passing (type, 1) or '1type' as a synonym of type is deprecated; in a future version of numpy, it will be understood as (type, (1,)) / '(1,)type'.\n",
      "  _np_qint8 = np.dtype([(\"qint8\", np.int8, 1)])\n",
      "/home/phunc20/.virtualenvs/homl1e/lib/python3.7/site-packages/tensorflow/python/framework/dtypes.py:527: FutureWarning: Passing (type, 1) or '1type' as a synonym of type is deprecated; in a future version of numpy, it will be understood as (type, (1,)) / '(1,)type'.\n",
      "  _np_quint8 = np.dtype([(\"quint8\", np.uint8, 1)])\n",
      "/home/phunc20/.virtualenvs/homl1e/lib/python3.7/site-packages/tensorflow/python/framework/dtypes.py:528: FutureWarning: Passing (type, 1) or '1type' as a synonym of type is deprecated; in a future version of numpy, it will be understood as (type, (1,)) / '(1,)type'.\n",
      "  _np_qint16 = np.dtype([(\"qint16\", np.int16, 1)])\n",
      "/home/phunc20/.virtualenvs/homl1e/lib/python3.7/site-packages/tensorflow/python/framework/dtypes.py:529: FutureWarning: Passing (type, 1) or '1type' as a synonym of type is deprecated; in a future version of numpy, it will be understood as (type, (1,)) / '(1,)type'.\n",
      "  _np_quint16 = np.dtype([(\"quint16\", np.uint16, 1)])\n",
      "/home/phunc20/.virtualenvs/homl1e/lib/python3.7/site-packages/tensorflow/python/framework/dtypes.py:530: FutureWarning: Passing (type, 1) or '1type' as a synonym of type is deprecated; in a future version of numpy, it will be understood as (type, (1,)) / '(1,)type'.\n",
      "  _np_qint32 = np.dtype([(\"qint32\", np.int32, 1)])\n",
      "/home/phunc20/.virtualenvs/homl1e/lib/python3.7/site-packages/tensorflow/python/framework/dtypes.py:535: FutureWarning: Passing (type, 1) or '1type' as a synonym of type is deprecated; in a future version of numpy, it will be understood as (type, (1,)) / '(1,)type'.\n",
      "  np_resource = np.dtype([(\"resource\", np.ubyte, 1)])\n"
     ]
    }
   ],
   "source": [
    "import tensorflow as tf\n",
    "import numpy as np"
   ]
  },
  {
   "cell_type": "markdown",
   "id": "corrected-craps",
   "metadata": {},
   "source": [
    "## `tf.unstack()`"
   ]
  },
  {
   "cell_type": "code",
   "execution_count": 2,
   "id": "wicked-rebecca",
   "metadata": {},
   "outputs": [],
   "source": [
    "n_inputs = 3\n",
    "n_steps = 17"
   ]
  },
  {
   "cell_type": "code",
   "execution_count": 3,
   "id": "smaller-permission",
   "metadata": {},
   "outputs": [
    {
     "data": {
      "text/plain": [
       "[<tf.Tensor 'unstack:0' shape=(?, 3) dtype=float32>,\n",
       " <tf.Tensor 'unstack:1' shape=(?, 3) dtype=float32>,\n",
       " <tf.Tensor 'unstack:2' shape=(?, 3) dtype=float32>,\n",
       " <tf.Tensor 'unstack:3' shape=(?, 3) dtype=float32>,\n",
       " <tf.Tensor 'unstack:4' shape=(?, 3) dtype=float32>,\n",
       " <tf.Tensor 'unstack:5' shape=(?, 3) dtype=float32>,\n",
       " <tf.Tensor 'unstack:6' shape=(?, 3) dtype=float32>,\n",
       " <tf.Tensor 'unstack:7' shape=(?, 3) dtype=float32>,\n",
       " <tf.Tensor 'unstack:8' shape=(?, 3) dtype=float32>,\n",
       " <tf.Tensor 'unstack:9' shape=(?, 3) dtype=float32>,\n",
       " <tf.Tensor 'unstack:10' shape=(?, 3) dtype=float32>,\n",
       " <tf.Tensor 'unstack:11' shape=(?, 3) dtype=float32>,\n",
       " <tf.Tensor 'unstack:12' shape=(?, 3) dtype=float32>,\n",
       " <tf.Tensor 'unstack:13' shape=(?, 3) dtype=float32>,\n",
       " <tf.Tensor 'unstack:14' shape=(?, 3) dtype=float32>,\n",
       " <tf.Tensor 'unstack:15' shape=(?, 3) dtype=float32>,\n",
       " <tf.Tensor 'unstack:16' shape=(?, 3) dtype=float32>]"
      ]
     },
     "execution_count": 3,
     "metadata": {},
     "output_type": "execute_result"
    }
   ],
   "source": [
    "X = tf.placeholder(tf.float32, [None, n_steps, n_inputs])\n",
    "X_seqs = tf.unstack(tf.transpose(X, perm=[1,0,2]))\n",
    "X_seqs"
   ]
  },
  {
   "cell_type": "code",
   "execution_count": 4,
   "id": "otherwise-harassment",
   "metadata": {},
   "outputs": [
    {
     "data": {
      "text/plain": [
       "list"
      ]
     },
     "execution_count": 4,
     "metadata": {},
     "output_type": "execute_result"
    }
   ],
   "source": [
    "type(X_seqs)"
   ]
  },
  {
   "cell_type": "code",
   "execution_count": 5,
   "id": "neutral-isaac",
   "metadata": {},
   "outputs": [
    {
     "data": {
      "text/plain": [
       "[<tf.Tensor 'unstack_1:0' shape=(3, 4) dtype=int64>,\n",
       " <tf.Tensor 'unstack_1:1' shape=(3, 4) dtype=int64>]"
      ]
     },
     "execution_count": 5,
     "metadata": {},
     "output_type": "execute_result"
    }
   ],
   "source": [
    "unstacked = tf.unstack(np.arange(2*3*4).reshape((2,3,4)))\n",
    "unstacked"
   ]
  },
  {
   "cell_type": "markdown",
   "id": "white-slovakia",
   "metadata": {},
   "source": [
    "So `tf.unstack()` accepts input sth like ndarray/tensor of shape `(n1, n2, n3, ...)` and returns a `list` of `n1` elements, each of which is of shape `(n2, n3, ...)`"
   ]
  },
  {
   "cell_type": "code",
   "execution_count": null,
   "id": "athletic-march",
   "metadata": {},
   "outputs": [],
   "source": []
  }
 ],
 "metadata": {
  "kernelspec": {
   "display_name": "Python 3",
   "language": "python",
   "name": "python3"
  },
  "language_info": {
   "codemirror_mode": {
    "name": "ipython",
    "version": 3
   },
   "file_extension": ".py",
   "mimetype": "text/x-python",
   "name": "python",
   "nbconvert_exporter": "python",
   "pygments_lexer": "ipython3",
   "version": "3.7.8"
  }
 },
 "nbformat": 4,
 "nbformat_minor": 5
}
